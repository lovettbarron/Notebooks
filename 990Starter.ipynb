{
 "cells": [
  {
   "cell_type": "code",
   "execution_count": 1,
   "metadata": {
    "collapsed": true
   },
   "outputs": [],
   "source": [
    "# Fundamental\n",
    "import sys, re, random, operator, time\n",
    "import datetime, json, pprint\n",
    "import matplotlib.pyplot as plt\n",
    "import numpy as np\n",
    "import pandas as pd\n",
    "\n",
    "#ML\n",
    "from sklearn.linear_model import LinearRegression, LogisticRegression\n",
    "from sklearn.cross_validation import KFold\n",
    "from sklearn.ensemble import GradientBoostingClassifier\n",
    "from sklearn.feature_selection import SelectKBest, f_classif\n",
    "\n",
    "# Query\n",
    "import urllib3 as url\n",
    "import xml.etree.ElementTree as ET\n",
    "\n",
    "# Visualize\n",
    "import seaborn as sns"
   ]
  },
  {
   "cell_type": "markdown",
   "metadata": {},
   "source": [
    "### Parameters + Instancing"
   ]
  },
  {
   "cell_type": "code",
   "execution_count": 57,
   "metadata": {
    "collapsed": false
   },
   "outputs": [],
   "source": [
    "http = url.PoolManager()\n",
    "pp = pprint.PrettyPrinter(indent=4)\n",
    "pd.options.display.max_seq_items = 100\n",
    "url.disable_warnings(url.exceptions.InsecureRequestWarning)\n",
    "%matplotlib inline"
   ]
  },
  {
   "cell_type": "code",
   "execution_count": 24,
   "metadata": {
    "collapsed": false
   },
   "outputs": [],
   "source": [
    "# Propublica paths\n",
    "ppdelay = .25 # API delay\n",
    "pplimit = 74 # Pause Requests\n",
    "pppath = \"https://projects.propublica.org/nonprofits/api/v2\"\n",
    "ppsearch = lambda x: \"/search.json?q=\"+x\n",
    "pporg = lambda x: \"/organizations/\"+str(x)+\".json\"\n",
    "ppsearch = lambda x: \"/search.json?q=\"+str(x).replace(\" \", \"%20\")\n",
    "\n",
    "# S3 Paths\n",
    "s3path = \"https://s3.amazonaws.com/irs-form-990\"\n",
    "s3index = lambda x: \"/index_\"+str(x)+\".csv\"\n",
    "s3xml = lambda x:\"/\"+str(x)+\"_public.xml\""
   ]
  },
  {
   "cell_type": "markdown",
   "metadata": {},
   "source": [
    "### Core Functions\n",
    "##### Methods for handling Propublica API"
   ]
  },
  {
   "cell_type": "code",
   "execution_count": 4,
   "metadata": {
    "collapsed": false
   },
   "outputs": [],
   "source": [
    "def get_eins_by_search(q,state=None,ntee=None,ccode=None):\n",
    "    # q is string query\n",
    "    # State string ed, eg NY\n",
    "    # ntee is National Taxonomy of Exempt Entities (NTEE) Major Group, by Integer\n",
    "    # ccode is organization category code by Integer, eg. 3 is 501(c)3\n",
    "    # https://projects.propublica.org/nonprofits/api#methods\n",
    "    query = \"\"\n",
    "    query+=\"&state%5Bid%5D=\"+str(state) if state!=None else \"\"\n",
    "    query+=\"ntee%5Bid%5D=\"+str(ntee) if ntee!=None else \"\"\n",
    "    query+=\"c_code%5Bid%5D=\"+str(ccode) if ccode!=None else \"\"\n",
    "    print(pppath+ppsearch(q)+query)\n",
    "    response = http.request('GET',pppath+ppsearch(q)+query)\n",
    "    parsed = json.loads(response.data.decode('utf-8'))\n",
    "    r = json.dumps(parsed[\"organizations\"], indent=4, sort_keys=True)\n",
    "#     print(r)\n",
    "    return pd.read_json(r,orient=\"index\").T"
   ]
  },
  {
   "cell_type": "code",
   "execution_count": 48,
   "metadata": {
    "collapsed": false
   },
   "outputs": [],
   "source": [
    "def get_by_ein(ein,year=None):\n",
    "    # Returns dataframe of FILING OBJECTS for that Organziation\n",
    "    # https://projects.propublica.org/nonprofits/api#filing-object\n",
    "    response = http.request('GET',pppath+pporg(ein))\n",
    "    parsed = json.loads(response.data.decode('utf-8'))\n",
    "    r = json.dumps(parsed[\"filings_with_data\"], indent=4, sort_keys=True)\n",
    "    # If there is nothing in the response\n",
    "    if(len(r)<=2): \n",
    "        return pd.DataFrame([{\"ein\":ein,\"tax_prd_yr\":year}])\n",
    "    else:\n",
    "        df =  pd.read_json(r,orient=\"index\").T.set_index('tax_prd_yr')\n",
    "        if year != None: # If a year is specified\n",
    "            if (int(year) in df.index) == False: # Make sure that year is there, if not return empty row\n",
    "                return pd.DataFrame([{\"ein\":ein,\"tax_prd_yr\":year}])\n",
    "            else: # otherwise return year as series\n",
    "                return df.loc[year] # Return year\n",
    "        else: # Otherwise return all years available\n",
    "            return df\n",
    "#     df.loc[year] if year!=None else df\n",
    "#     return df.loc[year] if year!=None else df"
   ]
  },
  {
   "cell_type": "code",
   "execution_count": 45,
   "metadata": {
    "collapsed": false
   },
   "outputs": [],
   "source": [
    "def get_by_eins_and_year(einlist,year):\n",
    "    # Accepts list of EINs\n",
    "    # Populates filing objects per row\n",
    "    df = pd.DataFrame()\n",
    "    count = 0\n",
    "    for ein in einlist:\n",
    "        print(count, ein,year)\n",
    "        count+=1\n",
    "        try:\n",
    "            row = get_by_ein(ein,year)\n",
    "            df = df.append(row)\n",
    "        except:\n",
    "            print(\"Rate limit at \" + str(count) + \" with \" + str(ppdelay) + \" seconds\")\n",
    "        if count%pplimit != 0: time.sleep(ppdelay)\n",
    "        else: time.sleep(10) # Cooldown\n",
    "    return df"
   ]
  },
  {
   "cell_type": "code",
   "execution_count": 7,
   "metadata": {
    "collapsed": true
   },
   "outputs": [],
   "source": [
    "def search_by_name(name, zipcode, returnlist=False):\n",
    "    # Retrieve EIN results by name\n",
    "    # If returnlist==True, Return full list or rtruncated list\n",
    "    # If returnlist==False, return most likely\n",
    "    return ein"
   ]
  },
  {
   "cell_type": "markdown",
   "metadata": {},
   "source": [
    "##### Methods for handling AWS hosted IRS xml"
   ]
  },
  {
   "cell_type": "code",
   "execution_count": 8,
   "metadata": {
    "collapsed": false
   },
   "outputs": [],
   "source": [
    "def get_unique_from_ein(year,ein):\n",
    "    df = pd.read_csv(s3path+s3index(str(year)))\n",
    "    objid = df[df[\"EIN\"]==ein].OBJECT_ID\n",
    "    return objid.values[0]"
   ]
  },
  {
   "cell_type": "code",
   "execution_count": 9,
   "metadata": {
    "collapsed": true
   },
   "outputs": [],
   "source": [
    "def get_990_to_df(objid):\n",
    "    response = http.request('GET',s3path+s3xml(objid))\n",
    "    root = ET.fromstring(response.data.decode('utf-8')) # element tree\n",
    "    print(root)\n",
    "    all_records = []\n",
    "    for i, child in enumerate(root):\n",
    "        record = {}\n",
    "        for subchild in child:\n",
    "            record[subchild.tag] = subchild.text\n",
    "            all_records.append(record)\n",
    "    return pd.DataFrame(all_records)"
   ]
  },
  {
   "cell_type": "code",
   "execution_count": 10,
   "metadata": {
    "collapsed": true
   },
   "outputs": [],
   "source": [
    "def get_990_to_xml(objid):\n",
    "    response = http.request('GET',s3path+s3xml(objid))\n",
    "    root = ET.fromstring(response.data.decode('utf-8')) # element tree\n",
    "    return root"
   ]
  },
  {
   "cell_type": "markdown",
   "metadata": {},
   "source": [
    "### Explore\n",
    "[Dictionary](https://github.com/CharityNavigator/irs990/blob/master/docs/explore-database.md)"
   ]
  },
  {
   "cell_type": "code",
   "execution_count": null,
   "metadata": {
    "collapsed": false
   },
   "outputs": [],
   "source": [
    "r = get_unique_from_ein(2015,382912028)\n",
    "df=get_990_to_df(r)\n",
    "df"
   ]
  },
  {
   "cell_type": "code",
   "execution_count": null,
   "metadata": {
    "collapsed": false
   },
   "outputs": [],
   "source": [
    "t=get_by_ein(382912028)\n"
   ]
  },
  {
   "cell_type": "code",
   "execution_count": null,
   "metadata": {
    "collapsed": false
   },
   "outputs": [],
   "source": [
    "get_by_ein(530196583,2015)"
   ]
  },
  {
   "cell_type": "code",
   "execution_count": null,
   "metadata": {
    "collapsed": false
   },
   "outputs": [],
   "source": [
    "# Example of Searching and then plotting\n",
    "t = get_by_ein(get_eins_by_search(\"New America\",state=\"DC\")['ein'][0])"
   ]
  },
  {
   "cell_type": "code",
   "execution_count": null,
   "metadata": {
    "collapsed": false
   },
   "outputs": [],
   "source": [
    "sns.stripplot(x=\"tax_prd_yr\",y=\"totfuncexpns\", data=t.reset_index());"
   ]
  },
  {
   "cell_type": "code",
   "execution_count": 58,
   "metadata": {
    "collapsed": false
   },
   "outputs": [
    {
     "name": "stdout",
     "output_type": "stream",
     "text": [
      "https://projects.propublica.org/nonprofits/api/v2/search.json?q=software&state%5Bid%5D=DC\n",
      "0 133768378 2015\n",
      "1 521329859 2015\n",
      "2 61242574 2015\n"
     ]
    }
   ],
   "source": [
    "newdf = get_by_eins_and_year(get_eins_by_search(\"software\",state=\"DC\")[\"ein\"], 2015)"
   ]
  },
  {
   "cell_type": "code",
   "execution_count": 59,
   "metadata": {
    "collapsed": false
   },
   "outputs": [
    {
     "data": {
      "text/html": [
       "<div>\n",
       "<table border=\"1\" class=\"dataframe\">\n",
       "  <thead>\n",
       "    <tr style=\"text-align: right;\">\n",
       "      <th></th>\n",
       "      <th>compnsatncurrofcr</th>\n",
       "      <th>cstbasisecur</th>\n",
       "      <th>cstbasisothr</th>\n",
       "      <th>ein</th>\n",
       "      <th>formtype</th>\n",
       "      <th>gftgrntsrcvd170</th>\n",
       "      <th>gnlsecur</th>\n",
       "      <th>gnlsothr</th>\n",
       "      <th>grsalesecur</th>\n",
       "      <th>grsalesinvent</th>\n",
       "      <th>...</th>\n",
       "      <th>totprgmrevnue</th>\n",
       "      <th>totrevenue</th>\n",
       "      <th>totsupp509</th>\n",
       "      <th>txexmptbndsend</th>\n",
       "      <th>txexmptbndsproceeds</th>\n",
       "      <th>txrevnuelevied170</th>\n",
       "      <th>txrevnuelevied509</th>\n",
       "      <th>unrelbusinccd</th>\n",
       "      <th>unsecurednotesend</th>\n",
       "      <th>updated</th>\n",
       "    </tr>\n",
       "  </thead>\n",
       "  <tbody>\n",
       "    <tr>\n",
       "      <th>2015</th>\n",
       "      <td>3066008.0</td>\n",
       "      <td>1929368.0</td>\n",
       "      <td>31038.0</td>\n",
       "      <td>133768378.0</td>\n",
       "      <td>0.0</td>\n",
       "      <td>0.0</td>\n",
       "      <td>460978.0</td>\n",
       "      <td>-31038.0</td>\n",
       "      <td>2390346.0</td>\n",
       "      <td>0.0</td>\n",
       "      <td>...</td>\n",
       "      <td>31106393.0</td>\n",
       "      <td>32370376.0</td>\n",
       "      <td>0.0</td>\n",
       "      <td>0.0</td>\n",
       "      <td>0.0</td>\n",
       "      <td>0.0</td>\n",
       "      <td>0.0</td>\n",
       "      <td>N</td>\n",
       "      <td>0.0</td>\n",
       "      <td>2017-06-30T00:37:49.920Z</td>\n",
       "    </tr>\n",
       "    <tr>\n",
       "      <th>2015</th>\n",
       "      <td>675856.0</td>\n",
       "      <td>3118735.0</td>\n",
       "      <td>0.0</td>\n",
       "      <td>521329859.0</td>\n",
       "      <td>0.0</td>\n",
       "      <td>0.0</td>\n",
       "      <td>633629.0</td>\n",
       "      <td>0.0</td>\n",
       "      <td>3752364.0</td>\n",
       "      <td>0.0</td>\n",
       "      <td>...</td>\n",
       "      <td>11831698.0</td>\n",
       "      <td>12360513.0</td>\n",
       "      <td>0.0</td>\n",
       "      <td>0.0</td>\n",
       "      <td>0.0</td>\n",
       "      <td>0.0</td>\n",
       "      <td>0.0</td>\n",
       "      <td>N</td>\n",
       "      <td>0.0</td>\n",
       "      <td>2017-06-30T00:36:49.104Z</td>\n",
       "    </tr>\n",
       "    <tr>\n",
       "      <th>2015</th>\n",
       "      <td>2484304.0</td>\n",
       "      <td>0.0</td>\n",
       "      <td>0.0</td>\n",
       "      <td>61242574.0</td>\n",
       "      <td>0.0</td>\n",
       "      <td>0.0</td>\n",
       "      <td>0.0</td>\n",
       "      <td>0.0</td>\n",
       "      <td>0.0</td>\n",
       "      <td>0.0</td>\n",
       "      <td>...</td>\n",
       "      <td>58843547.0</td>\n",
       "      <td>59649423.0</td>\n",
       "      <td>0.0</td>\n",
       "      <td>0.0</td>\n",
       "      <td>0.0</td>\n",
       "      <td>0.0</td>\n",
       "      <td>0.0</td>\n",
       "      <td>N</td>\n",
       "      <td>0.0</td>\n",
       "      <td>2017-06-30T00:38:18.366Z</td>\n",
       "    </tr>\n",
       "  </tbody>\n",
       "</table>\n",
       "<p>3 rows × 67 columns</p>\n",
       "</div>"
      ],
      "text/plain": [
       "      compnsatncurrofcr  cstbasisecur  cstbasisothr          ein  formtype  \\\n",
       "2015          3066008.0     1929368.0       31038.0  133768378.0       0.0   \n",
       "2015           675856.0     3118735.0           0.0  521329859.0       0.0   \n",
       "2015          2484304.0           0.0           0.0   61242574.0       0.0   \n",
       "\n",
       "      gftgrntsrcvd170  gnlsecur  gnlsothr  grsalesecur  grsalesinvent  \\\n",
       "2015              0.0  460978.0  -31038.0    2390346.0            0.0   \n",
       "2015              0.0  633629.0       0.0    3752364.0            0.0   \n",
       "2015              0.0       0.0       0.0          0.0            0.0   \n",
       "\n",
       "                ...             totprgmrevnue  totrevenue  totsupp509  \\\n",
       "2015            ...                31106393.0  32370376.0         0.0   \n",
       "2015            ...                11831698.0  12360513.0         0.0   \n",
       "2015            ...                58843547.0  59649423.0         0.0   \n",
       "\n",
       "      txexmptbndsend  txexmptbndsproceeds  txrevnuelevied170  \\\n",
       "2015             0.0                  0.0                0.0   \n",
       "2015             0.0                  0.0                0.0   \n",
       "2015             0.0                  0.0                0.0   \n",
       "\n",
       "      txrevnuelevied509  unrelbusinccd  unsecurednotesend  \\\n",
       "2015                0.0              N                0.0   \n",
       "2015                0.0              N                0.0   \n",
       "2015                0.0              N                0.0   \n",
       "\n",
       "                       updated  \n",
       "2015  2017-06-30T00:37:49.920Z  \n",
       "2015  2017-06-30T00:36:49.104Z  \n",
       "2015  2017-06-30T00:38:18.366Z  \n",
       "\n",
       "[3 rows x 67 columns]"
      ]
     },
     "execution_count": 59,
     "metadata": {},
     "output_type": "execute_result"
    }
   ],
   "source": [
    "newdf"
   ]
  },
  {
   "cell_type": "code",
   "execution_count": 53,
   "metadata": {
    "collapsed": false
   },
   "outputs": [
    {
     "name": "stderr",
     "output_type": "stream",
     "text": [
      "/home/ubuntu/anaconda3/lib/python3.5/site-packages/statsmodels/nonparametric/kdetools.py:20: VisibleDeprecationWarning: using a non-integer number instead of an integer will result in an error in the future\n",
      "  y = X[:m/2+1] + np.r_[0,X[m/2+1:],0]*1j\n"
     ]
    },
    {
     "data": {
      "text/plain": [
       "<seaborn.axisgrid.JointGrid at 0x7f64a6b6d3c8>"
      ]
     },
     "execution_count": 53,
     "metadata": {},
     "output_type": "execute_result"
    },
    {
     "data": {
      "image/png": "[encoded data removed]",
      "text/plain": [
       "<matplotlib.figure.Figure at 0x7f64a6c426d8>"
      ]
     },
     "metadata": {},
     "output_type": "display_data"
    }
   ],
   "source": [
    "sns.jointplot(\"totfuncexpns\", \"totrevenue\", data=newdf, kind=\"reg\", color=\"r\", size=7)"
   ]
  },
  {
   "cell_type": "code",
   "execution_count": null,
   "metadata": {
    "collapsed": true
   },
   "outputs": [],
   "source": []
  }
 ],
 "metadata": {
  "anaconda-cloud": {},
  "kernelspec": {
   "display_name": "Python [default]",
   "language": "python",
   "name": "python3"
  },
  "language_info": {
   "codemirror_mode": {
    "name": "ipython",
    "version": 3
   },
   "file_extension": ".py",
   "mimetype": "text/x-python",
   "name": "python",
   "nbconvert_exporter": "python",
   "pygments_lexer": "ipython3",
   "version": "3.5.2"
  }
 },
 "nbformat": 4,
 "nbformat_minor": 1
}
