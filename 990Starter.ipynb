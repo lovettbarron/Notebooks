{
 "cells": [
  {
   "cell_type": "code",
   "execution_count": 34,
   "metadata": {
    "collapsed": true
   },
   "outputs": [],
   "source": [
    "# Fundamental\n",
    "import sys, re, random, operator\n",
    "import datetime, json, pprint\n",
    "import matplotlib.pyplot as plt\n",
    "import numpy as np\n",
    "import pandas as pd\n",
    "\n",
    "#ML\n",
    "from sklearn.linear_model import LinearRegression, LogisticRegression\n",
    "from sklearn.cross_validation import KFold\n",
    "from sklearn.ensemble import GradientBoostingClassifier\n",
    "from sklearn.feature_selection import SelectKBest, f_classif\n",
    "\n",
    "# Query\n",
    "import urllib3 as url\n",
    "import xml.etree.ElementTree as ET\n",
    "\n",
    "# Visualize\n",
    "import seaborn as sns"
   ]
  },
  {
   "cell_type": "markdown",
   "metadata": {},
   "source": [
    "### Parameters + Instancing"
   ]
  },
  {
   "cell_type": "code",
   "execution_count": 2,
   "metadata": {
    "collapsed": false
   },
   "outputs": [],
   "source": [
    "http = url.PoolManager()\n",
    "pp = pprint.PrettyPrinter(indent=4)\n",
    "pd.options.display.max_seq_items = 100\n",
    "%matplotlib inline"
   ]
  },
  {
   "cell_type": "code",
   "execution_count": 44,
   "metadata": {
    "collapsed": false
   },
   "outputs": [],
   "source": [
    "# Propublica paths\n",
    "pppath = \"https://projects.propublica.org/nonprofits/api/v2\"\n",
    "ppsearch = lambda x: \"/search.json?q=\"+x\n",
    "pporg = lambda x: \"/organizations/\"+str(x)+\".json\"\n",
    "\n",
    "# S3 Paths\n",
    "s3path = \"https://s3.amazonaws.com/irs-form-990\"\n",
    "s3index = lambda x: \"/index_\"+str(x)+\".csv\"\n",
    "s3xml = lambda x:\"/\"+str(x)+\"_public.xml\""
   ]
  },
  {
   "cell_type": "markdown",
   "metadata": {},
   "source": [
    "### Core Functions\n",
    "##### Methods for handling Propublica API"
   ]
  },
  {
   "cell_type": "code",
   "execution_count": 5,
   "metadata": {
    "collapsed": false
   },
   "outputs": [],
   "source": [
    "def get_by_ein(ein):\n",
    "    response = http.request('GET',pppath+pporg(ein))\n",
    "    parsed = json.loads(response.data.decode('utf-8'))\n",
    "    print(json.dumps(parsed, indent=4, sort_keys=True))\n",
    "    return pd.read_json(response.data.decode('utf-8'))"
   ]
  },
  {
   "cell_type": "code",
   "execution_count": 6,
   "metadata": {
    "collapsed": true
   },
   "outputs": [],
   "source": [
    "def search_by_name(name, zipcode, returnlist=False):\n",
    "    # Retrieve EIN results by name\n",
    "    # If returnlist==True, Return full list or rtruncated list\n",
    "    # If returnlist==False, return most likely\n",
    "    return ein"
   ]
  },
  {
   "cell_type": "markdown",
   "metadata": {},
   "source": [
    "##### Methods for handling AWS hosted IRS xml"
   ]
  },
  {
   "cell_type": "code",
   "execution_count": 30,
   "metadata": {
    "collapsed": false
   },
   "outputs": [],
   "source": [
    "def get_unique_from_ein(year,ein):\n",
    "    df = pd.read_csv(s3path+s3index(str(year)))\n",
    "    objid = df[df[\"EIN\"]==ein].OBJECT_ID\n",
    "    return objid.values[0]"
   ]
  },
  {
   "cell_type": "code",
   "execution_count": 69,
   "metadata": {
    "collapsed": true
   },
   "outputs": [],
   "source": [
    "def get_990_to_df(objid):\n",
    "    response = http.request('GET',s3path+s3xml(objid))\n",
    "    root = ET.fromstring(response.data.decode('utf-8')) # element tree\n",
    "    print(root)\n",
    "    all_records = []\n",
    "    for i, child in enumerate(root):\n",
    "        record = {}\n",
    "        for subchild in child:\n",
    "            record[subchild.tag] = subchild.text\n",
    "            all_records.append(record)\n",
    "    return pd.DataFrame(all_records)"
   ]
  },
  {
   "cell_type": "code",
   "execution_count": 68,
   "metadata": {
    "collapsed": true
   },
   "outputs": [],
   "source": [
    "def get_990_to_xml(objid):\n",
    "    response = http.request('GET',s3path+s3xml(objid))\n",
    "    root = ET.fromstring(response.data.decode('utf-8')) # element tree\n",
    "    return root"
   ]
  },
  {
   "cell_type": "markdown",
   "metadata": {},
   "source": [
    "### Explore\n",
    "[Dictionary](https://github.com/CharityNavigator/irs990/blob/master/docs/explore-database.md)"
   ]
  },
  {
   "cell_type": "code",
   "execution_count": 42,
   "metadata": {
    "collapsed": false
   },
   "outputs": [],
   "source": [
    "r = get_unique_from_ein(2015,382912028)"
   ]
  },
  {
   "cell_type": "code",
   "execution_count": 57,
   "metadata": {
    "collapsed": false
   },
   "outputs": [
    {
     "name": "stderr",
     "output_type": "stream",
     "text": [
      "/home/ubuntu/anaconda3/lib/python3.5/site-packages/urllib3/connectionpool.py:852: InsecureRequestWarning: Unverified HTTPS request is being made. Adding certificate verification is strongly advised. See: https://urllib3.readthedocs.io/en/latest/advanced-usage.html#ssl-warnings\n",
      "  InsecureRequestWarning)\n"
     ]
    }
   ],
   "source": [
    "df=get_990_to_xml(r)"
   ]
  },
  {
   "cell_type": "code",
   "execution_count": null,
   "metadata": {
    "collapsed": false
   },
   "outputs": [],
   "source": []
  },
  {
   "cell_type": "code",
   "execution_count": null,
   "metadata": {
    "collapsed": true
   },
   "outputs": [],
   "source": []
  }
 ],
 "metadata": {
  "anaconda-cloud": {},
  "kernelspec": {
   "display_name": "Python [default]",
   "language": "python",
   "name": "python3"
  },
  "language_info": {
   "codemirror_mode": {
    "name": "ipython",
    "version": 3
   },
   "file_extension": ".py",
   "mimetype": "text/x-python",
   "name": "python",
   "nbconvert_exporter": "python",
   "pygments_lexer": "ipython3",
   "version": "3.5.2"
  }
 },
 "nbformat": 4,
 "nbformat_minor": 1
}
